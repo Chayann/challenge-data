{
 "cells": [
  {
   "cell_type": "markdown",
   "metadata": {
    "slideshow": {
     "slide_type": "slide"
    }
   },
   "source": [
    "# 2011 Census Data"
   ]
  },
  {
   "cell_type": "code",
   "execution_count": null,
   "metadata": {
    "slideshow": {
     "slide_type": "-"
    }
   },
   "outputs": [],
   "source": [
    "import pandas as pd\n",
    "%matplotlib inline"
   ]
  },
  {
   "cell_type": "markdown",
   "metadata": {
    "slideshow": {
     "slide_type": "subslide"
    }
   },
   "source": [
    "## Task\n",
    "\n",
    "Read the \"microdata\" csv file into a `pandas` dataframe.\n",
    "\n",
    "* How many people does this data set contain?\n",
    "* What information about them do we have about them?\n",
    "* Are there any difficulties with using this data set?"
   ]
  },
  {
   "cell_type": "code",
   "execution_count": null,
   "metadata": {
    "slideshow": {
     "slide_type": "subslide"
    }
   },
   "outputs": [],
   "source": [
    "data = pd.read_csv(\"2011 Census Microdata Teaching File.csv\")\n",
    "#data = pd.read_csv(\"2011 Census Nanodata Teaching File.csv\")\n",
    "len(data)"
   ]
  },
  {
   "cell_type": "code",
   "execution_count": null,
   "metadata": {
    "slideshow": {
     "slide_type": "subslide"
    }
   },
   "outputs": [],
   "source": [
    "data.tail(5)"
   ]
  },
  {
   "cell_type": "markdown",
   "metadata": {
    "slideshow": {
     "slide_type": "subslide"
    }
   },
   "source": [
    "`data.Religion` works but `data.Marital Status` doesn't.\n",
    "\n",
    "You'll need to use `data[\"Marital Status\"]` instead."
   ]
  },
  {
   "cell_type": "markdown",
   "metadata": {
    "slideshow": {
     "slide_type": "subslide"
    }
   },
   "source": [
    "## Task\n",
    "\n",
    "* How many people in the sample live in London?\n",
    "\n",
    "* What proportion of the sample are over 75 years old?\n",
    "\n",
    "* How many of the students are in very good health?"
   ]
  },
  {
   "cell_type": "code",
   "execution_count": null,
   "metadata": {
    "slideshow": {
     "slide_type": "-"
    }
   },
   "outputs": [],
   "source": []
  },
  {
   "cell_type": "markdown",
   "metadata": {
    "slideshow": {
     "slide_type": "subslide"
    }
   },
   "source": [
    "## Tool\n",
    "\n",
    "We can use `loc` and `value_counts()` to look more closely at student health."
   ]
  },
  {
   "cell_type": "code",
   "execution_count": null,
   "metadata": {
    "scrolled": true,
    "slideshow": {
     "slide_type": "fragment"
    }
   },
   "outputs": [],
   "source": [
    "data.loc[data[\"Student\"]==1,\"Health\"].value_counts()"
   ]
  },
  {
   "cell_type": "markdown",
   "metadata": {
    "slideshow": {
     "slide_type": "subslide"
    }
   },
   "source": [
    "## Tool\n",
    "\n",
    "We can use `map` with a dictionary to make those variables easier to read."
   ]
  },
  {
   "cell_type": "code",
   "execution_count": null,
   "metadata": {},
   "outputs": [],
   "source": [
    "health_codes = {1: \"1. Very good health\",\n",
    "                2: \"2. Good health\",\n",
    "                3: \"3. Fair health\",\n",
    "                4: \"4. Bad health\",\n",
    "                5: \"5. Very bad health\",\n",
    "                -9: \"No code required\"}\n",
    "data.loc[data[\"Student\"]==1,\"Health\"].map(health_codes).value_counts()"
   ]
  },
  {
   "cell_type": "markdown",
   "metadata": {
    "slideshow": {
     "slide_type": "subslide"
    }
   },
   "source": [
    "## Task\n",
    "\n",
    "> Londoners work more but are less healthy than the rest of the UK\n",
    "\n",
    "Investigate."
   ]
  },
  {
   "cell_type": "code",
   "execution_count": null,
   "metadata": {},
   "outputs": [],
   "source": []
  },
  {
   "cell_type": "markdown",
   "metadata": {
    "slideshow": {
     "slide_type": "subslide"
    }
   },
   "source": [
    "## Tool\n",
    "\n",
    "> Is there a relationship between social class and health?\n",
    "\n",
    "It doesn't make sense to draw a scatter graph between two categorical variables.\n",
    "\n",
    "We'll use `pandas` `crosstab` instead."
   ]
  },
  {
   "cell_type": "code",
   "execution_count": null,
   "metadata": {
    "slideshow": {
     "slide_type": "subslide"
    }
   },
   "outputs": [],
   "source": [
    "social_codes = {1: 'AB', 2: 'C1', 3: 'C2', 4: 'DE', -9: 'None required'}\n",
    "pd.crosstab(data[\"Approximated Social Grade\"].map(social_codes),data[\"Health\"].map(health_codes))"
   ]
  },
  {
   "cell_type": "code",
   "execution_count": null,
   "metadata": {
    "scrolled": false,
    "slideshow": {
     "slide_type": "subslide"
    }
   },
   "outputs": [],
   "source": [
    "pd.crosstab(data[\"Approximated Social Grade\"].map(social_codes),data[\"Health\"].map(health_codes), normalize=\"index\")"
   ]
  },
  {
   "cell_type": "code",
   "execution_count": null,
   "metadata": {
    "slideshow": {
     "slide_type": "subslide"
    }
   },
   "outputs": [],
   "source": [
    "import seaborn\n",
    "seaborn.heatmap(pd.crosstab(data[\"Approximated Social Grade\"].map(social_codes),data[\"Health\"].map(health_codes), normalize=\"index\"))"
   ]
  },
  {
   "cell_type": "markdown",
   "metadata": {
    "slideshow": {
     "slide_type": "subslide"
    }
   },
   "source": [
    "## Task\n",
    "\n",
    "In what part of the UK is unemployment worst?"
   ]
  }
 ],
 "metadata": {
  "celltoolbar": "Slideshow",
  "kernelspec": {
   "display_name": "Python 3",
   "language": "python",
   "name": "python3"
  },
  "language_info": {
   "codemirror_mode": {
    "name": "ipython",
    "version": 3
   },
   "file_extension": ".py",
   "mimetype": "text/x-python",
   "name": "python",
   "nbconvert_exporter": "python",
   "pygments_lexer": "ipython3",
   "version": "3.5.2"
  }
 },
 "nbformat": 4,
 "nbformat_minor": 2
}
